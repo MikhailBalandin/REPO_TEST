{
 "cells": [
  {
   "cell_type": "code",
   "execution_count": 1,
   "metadata": {},
   "outputs": [
    {
     "data": {
      "text/plain": [
       "<sqlite3.Cursor at 0x14f0e167a0>"
      ]
     },
     "execution_count": 1,
     "metadata": {},
     "output_type": "execute_result"
    }
   ],
   "source": [
    "import sqlite3\n",
    " \n",
    "conn = sqlite3.connect(\"mydatabase.db\") # или :memory: чтобы сохранить в RAM\n",
    "cursor = conn.cursor()\n",
    " \n",
    "# Создание таблицы\n",
    "cursor.execute(\"\"\"CREATE TABLE albums\n",
    "                  (title text, artist text, release_date text,\n",
    "                   publisher text, media_type text)\n",
    "               \"\"\")"
   ]
  },
  {
   "cell_type": "code",
   "execution_count": 2,
   "metadata": {},
   "outputs": [],
   "source": [
    "# Вставляем данные в таблицу\n",
    "cursor.execute(\"\"\"INSERT INTO albums\n",
    "                  VALUES ('Glow', 'Andy Hunter', '7/24/2012',\n",
    "                  'Xplore Records', 'MP3')\"\"\"\n",
    "               )\n",
    " \n",
    "# Сохраняем изменения\n",
    "conn.commit()\n",
    " \n",
    "# Вставляем множество данных в таблицу используя безопасный метод \"?\"\n",
    "albums = [('Exodus', 'Andy Hunter', '7/9/2002', 'Sparrow Records', 'CD'),\n",
    "          ('Until We Have Faces', 'Red', '2/1/2011', 'Essential Records', 'CD'),\n",
    "          ('The End is Where We Begin', 'Thousand Foot Krutch', '4/17/2012', 'TFKmusic', 'CD'),\n",
    "          ('The Good Life', 'Trip Lee', '4/10/2012', 'Reach Records', 'CD')]\n",
    " \n",
    "cursor.executemany(\"INSERT INTO albums VALUES (?,?,?,?,?)\", albums)\n",
    "conn.commit()"
   ]
  },
  {
   "cell_type": "code",
   "execution_count": 3,
   "metadata": {},
   "outputs": [],
   "source": [
    "import sqlite3\n",
    " \n",
    "conn = sqlite3.connect(\"mydatabase.db\")\n",
    "cursor = conn.cursor()\n",
    " \n",
    "sql = \"\"\"\n",
    "UPDATE albums \n",
    "SET artist = 'John Doe' \n",
    "WHERE artist = 'Andy Hunter'\n",
    "\"\"\"\n",
    " \n",
    "cursor.execute(sql)\n",
    "conn.commit()"
   ]
  },
  {
   "cell_type": "code",
   "execution_count": 4,
   "metadata": {},
   "outputs": [],
   "source": [
    "import sqlite3\n",
    " \n",
    "conn = sqlite3.connect(\"mydatabase.db\")\n",
    "cursor = conn.cursor()\n",
    " \n",
    "sql = \"DELETE FROM albums WHERE artist = 'John Doe'\"\n",
    " \n",
    "cursor.execute(sql)\n",
    "conn.commit()"
   ]
  },
  {
   "cell_type": "code",
   "execution_count": 5,
   "metadata": {},
   "outputs": [
    {
     "name": "stdout",
     "output_type": "stream",
     "text": [
      "[('Until We Have Faces', 'Red', '2/1/2011', 'Essential Records', 'CD')]\n",
      "Here's a listing of all the records in the table:\n",
      "(3, 'Until We Have Faces', 'Red', '2/1/2011', 'Essential Records', 'CD')\n",
      "(4, 'The End is Where We Begin', 'Thousand Foot Krutch', '4/17/2012', 'TFKmusic', 'CD')\n",
      "(5, 'The Good Life', 'Trip Lee', '4/10/2012', 'Reach Records', 'CD')\n",
      "Results from a LIKE query:\n",
      "[('The End is Where We Begin', 'Thousand Foot Krutch', '4/17/2012', 'TFKmusic', 'CD'), ('The Good Life', 'Trip Lee', '4/10/2012', 'Reach Records', 'CD')]\n"
     ]
    }
   ],
   "source": [
    "import sqlite3\n",
    " \n",
    "conn = sqlite3.connect(\"mydatabase.db\")\n",
    "#conn.row_factory = sqlite3.Row\n",
    "cursor = conn.cursor()\n",
    " \n",
    "sql = \"SELECT * FROM albums WHERE artist=?\"\n",
    "cursor.execute(sql, [(\"Red\")])\n",
    "print(cursor.fetchall()) # or use fetchone()\n",
    " \n",
    "print(\"Here's a listing of all the records in the table:\")\n",
    "for row in cursor.execute(\"SELECT rowid, * FROM albums ORDER BY artist\"):\n",
    "    print(row)\n",
    " \n",
    "print(\"Results from a LIKE query:\")\n",
    "sql = \"SELECT * FROM albums WHERE title LIKE 'The%'\"\n",
    "cursor.execute(sql)\n",
    " \n",
    "print(cursor.fetchall())"
   ]
  },
  {
   "cell_type": "code",
   "execution_count": null,
   "metadata": {},
   "outputs": [],
   "source": []
  }
 ],
 "metadata": {
  "kernelspec": {
   "display_name": "Python 3",
   "language": "python",
   "name": "python3"
  },
  "language_info": {
   "codemirror_mode": {
    "name": "ipython",
    "version": 3
   },
   "file_extension": ".py",
   "mimetype": "text/x-python",
   "name": "python",
   "nbconvert_exporter": "python",
   "pygments_lexer": "ipython3",
   "version": "3.7.6"
  }
 },
 "nbformat": 4,
 "nbformat_minor": 4
}
